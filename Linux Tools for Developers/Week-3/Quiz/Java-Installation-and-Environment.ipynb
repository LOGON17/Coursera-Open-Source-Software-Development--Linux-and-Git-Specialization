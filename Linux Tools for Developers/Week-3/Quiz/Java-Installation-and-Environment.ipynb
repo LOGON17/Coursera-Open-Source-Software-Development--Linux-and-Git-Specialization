{
 "cells": [
  {
   "cell_type": "markdown",
   "metadata": {},
   "source": [
    "#### 1. Which of the following statements are true (Select all answers that apply)?"
   ]
  },
  {
   "cell_type": "markdown",
   "metadata": {},
   "source": [
    "##### Ans: \n",
    "- Java programs developed on other systems can be expected to run without modification on Linux\n",
    "- There are a number of choices which can be used for the Java implementation on Linux machines, and one can switch between them\n",
    "- The biggest problem in porting Java code to Linux is often fear"
   ]
  },
  {
   "cell_type": "markdown",
   "metadata": {},
   "source": [
    "#### 2. Which utility can be used to select the default Java Implementation on a Linux system?"
   ]
  },
  {
   "cell_type": "markdown",
   "metadata": {},
   "source": [
    "##### Ans: alternatives"
   ]
  },
  {
   "cell_type": "markdown",
   "metadata": {},
   "source": [
    "#### 3. Which commands will show you information about which version of Java you are running (Select all answers that apply):"
   ]
  },
  {
   "cell_type": "markdown",
   "metadata": {},
   "source": [
    "##### Ans: \n",
    "- $ readlink -f $(which java)\n",
    "- java -version"
   ]
  },
  {
   "cell_type": "markdown",
   "metadata": {},
   "source": [
    "#### 4. Which of the following are Integrated Development Environments that can be used for Java on Linux (Select all answers that apply)?"
   ]
  },
  {
   "cell_type": "markdown",
   "metadata": {},
   "source": [
    "##### Ans: \n",
    "- NetBeans\n",
    "- Eclipse"
   ]
  },
  {
   "cell_type": "markdown",
   "metadata": {},
   "source": [
    "#### 5. If you are experienced in using Eclipse on another operating system, when moving to Linux:"
   ]
  },
  {
   "cell_type": "markdown",
   "metadata": {},
   "source": [
    "##### Ans: The interface and functioning should be almost the same and have little or no learning curve required"
   ]
  }
 ],
 "metadata": {
  "kernelspec": {
   "display_name": "Python 3",
   "language": "python",
   "name": "python3"
  },
  "language_info": {
   "codemirror_mode": {
    "name": "ipython",
    "version": 3
   },
   "file_extension": ".py",
   "mimetype": "text/x-python",
   "name": "python",
   "nbconvert_exporter": "python",
   "pygments_lexer": "ipython3",
   "version": "3.6.4"
  }
 },
 "nbformat": 4,
 "nbformat_minor": 2
}
